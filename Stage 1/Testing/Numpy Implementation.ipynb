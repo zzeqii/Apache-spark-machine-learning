{
 "cells": [
  {
   "cell_type": "markdown",
   "metadata": {},
   "source": [
    "## Numpy / Spark Implementation Comparison"
   ]
  },
  {
   "cell_type": "code",
   "execution_count": 1,
   "metadata": {},
   "outputs": [],
   "source": [
    "import pandas as pd\n",
    "import numpy as np"
   ]
  },
  {
   "cell_type": "code",
   "execution_count": 8,
   "metadata": {},
   "outputs": [],
   "source": [
    "train_features = pd.read_csv('../Data/Train-28x28.csv', header=None).values\n",
    "test_features = pd.read_csv('../Data/Test-28x28.csv', header=None).values\n",
    "train_labels = pd.read_csv('../Data/Train-label.csv', header=None).values\n",
    "test_labels = pd.read_csv('../Data/Test-label.csv', header=None).values"
   ]
  },
  {
   "cell_type": "code",
   "execution_count": null,
   "metadata": {},
   "outputs": [],
   "source": []
  },
  {
   "cell_type": "code",
   "execution_count": 51,
   "metadata": {},
   "outputs": [
    {
     "name": "stderr",
     "output_type": "stream",
     "text": [
      "/Users/nicholasmoore/Development/Anaconda/anaconda3/lib/python3.6/site-packages/ipykernel_launcher.py:4: DataConversionWarning: A column-vector y was passed when a 1d array was expected. Please change the shape of y to (n_samples, ), for example using ravel().\n",
      "  after removing the cwd from sys.path.\n"
     ]
    },
    {
     "data": {
      "text/plain": [
       "array([2, 3, 1, 0, 2])"
      ]
     },
     "execution_count": 51,
     "metadata": {},
     "output_type": "execute_result"
    }
   ],
   "source": [
    "from sklearn.neighbors import KNeighborsClassifier\n",
    "\n",
    "knn = KNeighborsClassifier(n_neighbors=3, metric='cosine')\n",
    "knn.fit(train_features, train_labels)\n",
    "knn.predict(test_features)"
   ]
  },
  {
   "cell_type": "code",
   "execution_count": 52,
   "metadata": {},
   "outputs": [
    {
     "data": {
      "text/plain": [
       "array([[7],\n",
       "       [2],\n",
       "       [1],\n",
       "       [0],\n",
       "       [4]])"
      ]
     },
     "execution_count": 52,
     "metadata": {},
     "output_type": "execute_result"
    }
   ],
   "source": [
    "test_labels"
   ]
  },
  {
   "cell_type": "code",
   "execution_count": null,
   "metadata": {},
   "outputs": [],
   "source": []
  },
  {
   "cell_type": "code",
   "execution_count": 28,
   "metadata": {},
   "outputs": [],
   "source": [
    "# sum_sq = train_features.rdd.map(lambda x : x[0].dot(x[0])) # spark\n",
    "# sum_sq = [(x * x).sum() for x in train_features] # numpy\n",
    "sum_sq = [x.dot(x) for x in train_features] # numpy"
   ]
  },
  {
   "cell_type": "code",
   "execution_count": 40,
   "metadata": {},
   "outputs": [],
   "source": [
    "# dot_product = test_features.rdd.cartesian(train_features.rdd).filter(lambda x: x[0][0] != x[1][0]).map(lambda x: x[0][0].dot(x[1][0])) # spark\n",
    "dot_product = np.array([[test.dot(train) for train in train_features] for test in test_features]) # numpy"
   ]
  },
  {
   "cell_type": "code",
   "execution_count": 44,
   "metadata": {},
   "outputs": [
    {
     "data": {
      "text/plain": [
       "[[0.4233402126471753,\n",
       "  0.3504498647140426,\n",
       "  0.2475203701546623,\n",
       "  0.14505681521036096,\n",
       "  0.3833998199165904,\n",
       "  0.41000320202928575,\n",
       "  0.28028561364776344,\n",
       "  0.43703378439042845,\n",
       "  0.2457241788293801,\n",
       "  0.3957665835774502,\n",
       "  0.42046162436678675,\n",
       "  0.1588951918748992,\n",
       "  0.27749083062558744,\n",
       "  0.28621629373349766,\n",
       "  0.25145865663477807,\n",
       "  0.5810224704170716,\n",
       "  0.432374854463215,\n",
       "  0.36488175266179246,\n",
       "  0.17683650799522269,\n",
       "  0.41663645683785683],\n",
       " [0.3367887124710152,\n",
       "  0.34776410312842115,\n",
       "  0.13543287821558847,\n",
       "  0.2516065622777885,\n",
       "  0.23853337566027735,\n",
       "  0.3095924163625588,\n",
       "  0.36114583763649794,\n",
       "  0.34286474576464304,\n",
       "  0.27677852465141756,\n",
       "  0.25021497179997126,\n",
       "  0.509086360907887,\n",
       "  0.28478752013261877,\n",
       "  0.48794158504482055,\n",
       "  0.34878686752408716,\n",
       "  0.31044732519857615,\n",
       "  0.1826678045220729,\n",
       "  0.3017558287674613,\n",
       "  0.38949466089807766,\n",
       "  0.39746668264155566,\n",
       "  0.2997360305143417],\n",
       " [0.349082892881825,\n",
       "  0.29210832215141075,\n",
       "  0.07255649507447434,\n",
       "  0.5442291885374303,\n",
       "  0.2765991725703911,\n",
       "  0.27354937051008343,\n",
       "  0.38751558760046906,\n",
       "  0.3081816890666162,\n",
       "  0.3417621038910506,\n",
       "  0.3235062844104357,\n",
       "  0.4421593297151957,\n",
       "  0.35541440305716665,\n",
       "  0.3135722472460047,\n",
       "  0.33707919677199133,\n",
       "  0.473031643654683,\n",
       "  0.33954171106516,\n",
       "  0.25582336651238824,\n",
       "  0.45057456889487574,\n",
       "  0.21335262071961333,\n",
       "  0.4853008353091267],\n",
       " [0.5534509160877855,\n",
       "  0.7464053071356708,\n",
       "  0.27690166010571415,\n",
       "  0.23308376098843236,\n",
       "  0.4698573158476996,\n",
       "  0.5386414554189345,\n",
       "  0.3919011679007984,\n",
       "  0.5170587239256279,\n",
       "  0.3031948723186668,\n",
       "  0.38928428332707865,\n",
       "  0.5632114883932791,\n",
       "  0.24732955150778538,\n",
       "  0.45125656279451815,\n",
       "  0.6863498156911854,\n",
       "  0.31560341062785463,\n",
       "  0.527476910747483,\n",
       "  0.5087521220463646,\n",
       "  0.4443408000053899,\n",
       "  0.4370568682040498,\n",
       "  0.4039216131969964],\n",
       " [0.26991793607493575,\n",
       "  0.28109650180022716,\n",
       "  0.5042278166558508,\n",
       "  0.1692756974038044,\n",
       "  0.32314815426108745,\n",
       "  0.37797159051482526,\n",
       "  0.2489305565894979,\n",
       "  0.4255697356548045,\n",
       "  0.09372266380186409,\n",
       "  0.42832678840230853,\n",
       "  0.2206788423477009,\n",
       "  0.1669029315968648,\n",
       "  0.26272016643444135,\n",
       "  0.33057898823030707,\n",
       "  0.07283695962590368,\n",
       "  0.4513470541973989,\n",
       "  0.4526048521727952,\n",
       "  0.24549420577233577,\n",
       "  0.20924858375884486,\n",
       "  0.14811718007836935]]"
      ]
     },
     "execution_count": 44,
     "metadata": {},
     "output_type": "execute_result"
    }
   ],
   "source": [
    "# Find cosine distsance -- spark\n",
    "\n",
    "# def cosine_dist(vector_one, vector_two):\n",
    "#     dot_product = vector_one.dot(vector_two)\n",
    "#     sum_sq_vector_one = np.sqrt(vector_one.dot(vector_one))\n",
    "#     sum_sq_vector_two = np.sqrt(vector_two.dot(vector_two))\n",
    "#     return dot_product / (sum_sq_vector_one * sum_sq_vector_two)\n",
    "\n",
    "# cosine_dist = test_features.rdd.cartesian(train_features.rdd) \\\n",
    "#                 .map(lambda x: cosine_dist(x[0][0], x[1][0]))\n",
    "\n",
    "# Find cosine distsance -- numpy\n",
    "\n",
    "def cosine_dist(test, train):\n",
    "    dot = train.dot(test)\n",
    "    train_sum_sq = np.sqrt(train.dot(train))\n",
    "    test_sum_sq = np.sqrt(test.dot(test))\n",
    "    return dot / (train_sum_sq * test_sum_sq)\n",
    "\n",
    "cosine_dist = [[cosine_dist(test, train) for train in train_features] for test in test_features]\n",
    "cosine_dist"
   ]
  },
  {
   "cell_type": "code",
   "execution_count": null,
   "metadata": {},
   "outputs": [],
   "source": []
  }
 ],
 "metadata": {
  "kernelspec": {
   "display_name": "Python 3",
   "language": "python",
   "name": "python3"
  },
  "language_info": {
   "codemirror_mode": {
    "name": "ipython",
    "version": 3
   },
   "file_extension": ".py",
   "mimetype": "text/x-python",
   "name": "python",
   "nbconvert_exporter": "python",
   "pygments_lexer": "ipython3",
   "version": "3.6.4"
  }
 },
 "nbformat": 4,
 "nbformat_minor": 2
}
