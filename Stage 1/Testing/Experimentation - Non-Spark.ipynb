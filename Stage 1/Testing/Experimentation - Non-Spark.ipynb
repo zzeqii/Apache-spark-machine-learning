{
 "cells": [
  {
   "cell_type": "markdown",
   "metadata": {},
   "source": [
    "### Non-Spark Implementation\n",
    "---"
   ]
  },
  {
   "cell_type": "code",
   "execution_count": 5,
   "metadata": {},
   "outputs": [
    {
     "name": "stdout",
     "output_type": "stream",
     "text": [
      "Test-label-28x28.csv  Train-label-28x28.csv\r\n"
     ]
    }
   ],
   "source": [
    "!ls ../../Data"
   ]
  },
  {
   "cell_type": "code",
   "execution_count": 10,
   "metadata": {},
   "outputs": [],
   "source": [
    "# Read in data\n",
    "import pandas as pd\n",
    "\n",
    "base = '../../Data'\n",
    "train = pd.read_csv('{}/Train-label-28x28.csv'.format(base), header=None)\n",
    "test = pd.read_csv('{}/Test-label-28x28.csv'.format(base), header=None)"
   ]
  },
  {
   "cell_type": "code",
   "execution_count": 17,
   "metadata": {},
   "outputs": [],
   "source": [
    "X_train = train.iloc[:, 1:]\n",
    "y_train = train.iloc[:, 0]\n",
    "X_test = test.iloc[:, 1:]\n",
    "y_test = test.iloc[:, 0]"
   ]
  },
  {
   "cell_type": "code",
   "execution_count": 22,
   "metadata": {},
   "outputs": [
    {
     "name": "stdout",
     "output_type": "stream",
     "text": [
      "0.906\n",
      "             precision    recall  f1-score   support\n",
      "\n",
      "          0     0.8936    0.9882    0.9385        85\n",
      "          1     0.8182    1.0000    0.9000       126\n",
      "          2     1.0000    0.7414    0.8515       116\n",
      "          3     0.9327    0.9065    0.9194       107\n",
      "          4     0.9266    0.9182    0.9224       110\n",
      "          5     0.9634    0.9080    0.9349        87\n",
      "          6     0.9222    0.9540    0.9379        87\n",
      "          7     0.8505    0.9192    0.8835        99\n",
      "          8     0.9481    0.8202    0.8795        89\n",
      "          9     0.8866    0.9149    0.9005        94\n",
      "\n",
      "avg / total     0.9127    0.9060    0.9051      1000\n",
      "\n"
     ]
    }
   ],
   "source": [
    "# Find evaluation statistics\n",
    "from sklearn.metrics import classification_report\n",
    "from sklearn.neighbors import KNeighborsClassifier\n",
    "\n",
    "knn = KNeighborsClassifier(n_neighbors=10, metric='euclidean')\n",
    "knn.fit(X_train, y_train)\n",
    "predictions = knn.predict(X_test)\n",
    "print(knn.score(X_test, y_test))\n",
    "print(classification_report(y_test, predictions, digits=4))"
   ]
  },
  {
   "cell_type": "code",
   "execution_count": 23,
   "metadata": {},
   "outputs": [
    {
     "name": "stdout",
     "output_type": "stream",
     "text": [
      "0.916\n",
      "             precision    recall  f1-score   support\n",
      "\n",
      "          0     0.9121    0.9765    0.9432        85\n",
      "          1     0.8936    1.0000    0.9438       126\n",
      "          2     0.9899    0.8448    0.9116       116\n",
      "          3     0.9515    0.9159    0.9333       107\n",
      "          4     0.9167    0.9000    0.9083       110\n",
      "          5     0.9310    0.9310    0.9310        87\n",
      "          6     0.8936    0.9655    0.9282        87\n",
      "          7     0.8990    0.8990    0.8990        99\n",
      "          8     0.9342    0.7978    0.8606        89\n",
      "          9     0.8529    0.9255    0.8878        94\n",
      "\n",
      "avg / total     0.9187    0.9160    0.9154      1000\n",
      "\n"
     ]
    }
   ],
   "source": [
    "# Find evaluation statistics\n",
    "from sklearn.metrics import classification_report\n",
    "\n",
    "knn = KNeighborsClassifier(n_neighbors=5, metric='euclidean')\n",
    "knn.fit(X_train, y_train)\n",
    "predictions = knn.predict(X_test)\n",
    "print(knn.score(X_test, y_test))\n",
    "print(classification_report(y_test, predictions, digits=4))"
   ]
  },
  {
   "cell_type": "code",
   "execution_count": null,
   "metadata": {},
   "outputs": [],
   "source": [
    "# Apply PCA\n",
    "from sklearn.decomposition import PCA\n",
    "\n",
    "pca = PCA(n_components=data_df['train_features'].shape[1])\n",
    "\n",
    "data_df_pca = data_df.copy()\n",
    "data_df_pca['train_features'] = pca.fit_transform(data_df['train_features'])\n",
    "data_df_pca['test_features'] = pca.transform(data_df['test_features'])"
   ]
  },
  {
   "cell_type": "code",
   "execution_count": null,
   "metadata": {},
   "outputs": [],
   "source": [
    "import matplotlib.pyplot as plt\n",
    "import numpy as np\n",
    "\n",
    "plt.plot(pca.explained_variance_ratio_)\n",
    "plt.show()\n",
    "\n",
    "plt.plot(np.cumsum(pca.explained_variance_ratio_))\n",
    "plt.show()\n",
    "\n",
    "# Find number of PC that capture 95% of variance\n",
    "pc_95 = np.argmax(np.cumsum(pca.explained_variance_ratio_) > 0.95)\n",
    "pc_90 = np.argmax(np.cumsum(pca.explained_variance_ratio_) > 0.90)\n",
    "\n",
    "print('Number of principal components that capture 95% of variance: {}'.format(pc_95))\n",
    "print('Number of principal components that capture 90% of variance: {}'.format(pc_90))"
   ]
  },
  {
   "cell_type": "code",
   "execution_count": 5,
   "metadata": {},
   "outputs": [],
   "source": [
    "# Re-transform data so 95% of varaince is captured\n",
    "data_df_pca['train_features'] = data_df_pca['train_features'][:, :pc_95]\n",
    "data_df_pca['test_features'] = data_df_pca['test_features'][:, :pc_95]"
   ]
  },
  {
   "cell_type": "code",
   "execution_count": 113,
   "metadata": {},
   "outputs": [],
   "source": [
    "# Find optimal k value\n",
    "from sklearn.neighbors import KNeighborsClassifier\n",
    "\n",
    "k_scores = []\n",
    "\n",
    "for k_val in list(range(1, 10, 1)):\n",
    "    knn = KNeighborsClassifier(n_neighbors=k_val, metric='cosine')\n",
    "    knn.fit(data_df_pca['train_features'], data_df_pca['train_labels'])\n",
    "    k_scores.append(knn.score(data_df_pca['test_features'], data_df_pca['test_labels']))"
   ]
  },
  {
   "cell_type": "code",
   "execution_count": null,
   "metadata": {},
   "outputs": [],
   "source": []
  },
  {
   "cell_type": "code",
   "execution_count": 114,
   "metadata": {},
   "outputs": [
    {
     "data": {
      "image/png": "[encoded data removed]",
      "text/plain": [
       "<matplotlib.figure.Figure at 0x118aeebe0>"
      ]
     },
     "metadata": {},
     "output_type": "display_data"
    }
   ],
   "source": [
    "plt.plot(k_scores); plt.show()"
   ]
  },
  {
   "cell_type": "code",
   "execution_count": null,
   "metadata": {},
   "outputs": [],
   "source": [
    "np.save('knn-neighbors-scores.npy', np.array(k_scores))"
   ]
  },
  {
   "cell_type": "code",
   "execution_count": 13,
   "metadata": {},
   "outputs": [],
   "source": [
    "# Find evaluation statistics\n",
    "from sklearn.metrics import classification_report\n",
    "\n",
    "knn = KNeighborsClassifier(n_neighbors=2, metric='cosine')\n",
    "knn.fit(data_df_pca['train_features'], data_df_pca['train_labels'])\n",
    "predictions = knn.predict(data_df_pca['test_features'])\n",
    "\n",
    "statistics = classification_report(data_df_pca['test_labels'], predictions)"
   ]
  },
  {
   "cell_type": "code",
   "execution_count": 15,
   "metadata": {},
   "outputs": [
    {
     "name": "stdout",
     "output_type": "stream",
     "text": [
      "             precision    recall  f1-score   support\n",
      "\n",
      "          0       0.94      1.00      0.97       980\n",
      "          1       0.95      1.00      0.97      1135\n",
      "          2       0.97      0.97      0.97      1032\n",
      "          3       0.94      0.97      0.95      1010\n",
      "          4       0.96      0.97      0.96       982\n",
      "          5       0.96      0.95      0.95       892\n",
      "          6       0.99      0.98      0.98       958\n",
      "          7       0.96      0.96      0.96      1027\n",
      "          8       0.99      0.91      0.95       974\n",
      "          9       0.98      0.92      0.95      1009\n",
      "\n",
      "avg / total       0.96      0.96      0.96      9999\n",
      "\n"
     ]
    }
   ],
   "source": [
    "print(statistics)"
   ]
  },
  {
   "cell_type": "code",
   "execution_count": null,
   "metadata": {},
   "outputs": [],
   "source": []
  }
 ],
 "metadata": {
  "kernelspec": {
   "display_name": "Python 3",
   "language": "python",
   "name": "python3"
  },
  "language_info": {
   "codemirror_mode": {
    "name": "ipython",
    "version": 3
   },
   "file_extension": ".py",
   "mimetype": "text/x-python",
   "name": "python",
   "nbconvert_exporter": "python",
   "pygments_lexer": "ipython3",
   "version": "3.6.4"
  }
 },
 "nbformat": 4,
 "nbformat_minor": 2
}
